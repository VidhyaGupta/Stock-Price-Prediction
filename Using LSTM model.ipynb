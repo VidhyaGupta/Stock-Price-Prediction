{
 "cells": [
  {
   "cell_type": "code",
   "execution_count": 1,
   "metadata": {},
   "outputs": [],
   "source": [
    "import pandas as pd\n",
    "import numpy as np\n",
    "import os\n",
    "import matplotlib.pyplot as plt\n",
    "from sklearn.preprocessing import MinMaxScaler\n",
    "from sklearn.metrics import mean_squared_error\n",
    "import math\n",
    "!pip install tensorflow\n",
    "from tensorflow.keras.models import Sequential\n",
    "from tensorflow.keras.layers import Dense\n",
    "from tensorflow.keras.layers import LSTM"
   ]
  },
  {
   "cell_type": "code",
   "execution_count": 2,
   "metadata": {},
   "outputs": [
    {
     "data": {
      "text/html": [
       "<div>\n",
       "<style scoped>\n",
       "    .dataframe tbody tr th:only-of-type {\n",
       "        vertical-align: middle;\n",
       "    }\n",
       "\n",
       "    .dataframe tbody tr th {\n",
       "        vertical-align: top;\n",
       "    }\n",
       "\n",
       "    .dataframe thead th {\n",
       "        text-align: right;\n",
       "    }\n",
       "</style>\n",
       "<table border=\"1\" class=\"dataframe\">\n",
       "  <thead>\n",
       "    <tr style=\"text-align: right;\">\n",
       "      <th></th>\n",
       "      <th>Date</th>\n",
       "      <th>Open</th>\n",
       "      <th>High</th>\n",
       "      <th>Low</th>\n",
       "      <th>Close</th>\n",
       "      <th>Adj Close</th>\n",
       "      <th>Volume</th>\n",
       "    </tr>\n",
       "  </thead>\n",
       "  <tbody>\n",
       "    <tr>\n",
       "      <th>0</th>\n",
       "      <td>2016-04-18</td>\n",
       "      <td>27.222500</td>\n",
       "      <td>27.237499</td>\n",
       "      <td>26.735001</td>\n",
       "      <td>26.870001</td>\n",
       "      <td>24.992023</td>\n",
       "      <td>243286000</td>\n",
       "    </tr>\n",
       "    <tr>\n",
       "      <th>1</th>\n",
       "      <td>2016-04-19</td>\n",
       "      <td>26.969999</td>\n",
       "      <td>27.000000</td>\n",
       "      <td>26.557501</td>\n",
       "      <td>26.727501</td>\n",
       "      <td>24.859484</td>\n",
       "      <td>129539600</td>\n",
       "    </tr>\n",
       "    <tr>\n",
       "      <th>2</th>\n",
       "      <td>2016-04-20</td>\n",
       "      <td>26.660000</td>\n",
       "      <td>27.022499</td>\n",
       "      <td>26.514999</td>\n",
       "      <td>26.782499</td>\n",
       "      <td>24.910643</td>\n",
       "      <td>122444000</td>\n",
       "    </tr>\n",
       "    <tr>\n",
       "      <th>3</th>\n",
       "      <td>2016-04-21</td>\n",
       "      <td>26.732500</td>\n",
       "      <td>26.732500</td>\n",
       "      <td>26.379999</td>\n",
       "      <td>26.492500</td>\n",
       "      <td>24.640911</td>\n",
       "      <td>126210000</td>\n",
       "    </tr>\n",
       "    <tr>\n",
       "      <th>4</th>\n",
       "      <td>2016-04-22</td>\n",
       "      <td>26.252501</td>\n",
       "      <td>26.620001</td>\n",
       "      <td>26.155001</td>\n",
       "      <td>26.420000</td>\n",
       "      <td>24.573479</td>\n",
       "      <td>134732400</td>\n",
       "    </tr>\n",
       "  </tbody>\n",
       "</table>\n",
       "</div>"
      ],
      "text/plain": [
       "         Date       Open       High        Low      Close  Adj Close  \\\n",
       "0  2016-04-18  27.222500  27.237499  26.735001  26.870001  24.992023   \n",
       "1  2016-04-19  26.969999  27.000000  26.557501  26.727501  24.859484   \n",
       "2  2016-04-20  26.660000  27.022499  26.514999  26.782499  24.910643   \n",
       "3  2016-04-21  26.732500  26.732500  26.379999  26.492500  24.640911   \n",
       "4  2016-04-22  26.252501  26.620001  26.155001  26.420000  24.573479   \n",
       "\n",
       "      Volume  \n",
       "0  243286000  \n",
       "1  129539600  \n",
       "2  122444000  \n",
       "3  126210000  \n",
       "4  134732400  "
      ]
     },
     "execution_count": 2,
     "metadata": {},
     "output_type": "execute_result"
    }
   ],
   "source": [
    "data = pd.read_csv(\"Stock_price.csv\")\n",
    "data.head()"
   ]
  },
  {
   "cell_type": "code",
   "execution_count": 3,
   "metadata": {
    "scrolled": false
   },
   "outputs": [
    {
     "data": {
      "text/plain": [
       "0        24.992023\n",
       "1        24.859484\n",
       "2        24.910643\n",
       "3        24.640911\n",
       "4        24.573479\n",
       "           ...    \n",
       "1254    131.240005\n",
       "1255    134.429993\n",
       "1256    132.029999\n",
       "1257    134.500000\n",
       "1258    134.160004\n",
       "Name: Adj Close, Length: 1259, dtype: float64"
      ]
     },
     "execution_count": 3,
     "metadata": {},
     "output_type": "execute_result"
    }
   ],
   "source": [
    "df=data.reset_index()['Adj Close']\n",
    "df"
   ]
  },
  {
   "cell_type": "code",
   "execution_count": 4,
   "metadata": {},
   "outputs": [],
   "source": [
    "df.dropna(inplace=True)"
   ]
  },
  {
   "cell_type": "code",
   "execution_count": 5,
   "metadata": {},
   "outputs": [
    {
     "data": {
      "text/plain": [
       "0    24.992023\n",
       "1    24.859484\n",
       "2    24.910643\n",
       "3    24.640911\n",
       "4    24.573479\n",
       "Name: Adj Close, dtype: float64"
      ]
     },
     "execution_count": 5,
     "metadata": {},
     "output_type": "execute_result"
    }
   ],
   "source": [
    "df.head(5)"
   ]
  },
  {
   "cell_type": "code",
   "execution_count": 6,
   "metadata": {},
   "outputs": [],
   "source": [
    "scaler=MinMaxScaler(feature_range=(0,1))\n",
    "df = scaler.fit_transform((np.array(df).reshape(-1,1)))"
   ]
  },
  {
   "cell_type": "code",
   "execution_count": 7,
   "metadata": {},
   "outputs": [
    {
     "data": {
      "text/plain": [
       "array([[0.03166864],\n",
       "       [0.03058058],\n",
       "       [0.03100056],\n",
       "       ...,\n",
       "       [0.91038323],\n",
       "       [0.93066039],\n",
       "       [0.92786924]])"
      ]
     },
     "execution_count": 7,
     "metadata": {},
     "output_type": "execute_result"
    }
   ],
   "source": [
    "df"
   ]
  },
  {
   "cell_type": "code",
   "execution_count": 8,
   "metadata": {},
   "outputs": [
    {
     "data": {
      "text/plain": [
       "((1007, 1), (252, 1))"
      ]
     },
     "execution_count": 8,
     "metadata": {},
     "output_type": "execute_result"
    }
   ],
   "source": [
    "size = int(len(df)*0.8)\n",
    "train, test = df[:size], df[size:]\n",
    "train.shape, test.shape"
   ]
  },
  {
   "cell_type": "code",
   "execution_count": 9,
   "metadata": {},
   "outputs": [],
   "source": [
    "# convert an array of values into a dataset matrix\n",
    "def create_dataset(dataset, time_step=1):\n",
    "    dataX, dataY = [], []\n",
    "    for i in range(len(dataset)-time_step-1):\n",
    "        a = dataset[i:(i+time_step), 0]  \n",
    "        dataX.append(a)\n",
    "        dataY.append(dataset[i + time_step, 0])\n",
    "    return np.array(dataX), np.array(dataY)"
   ]
  },
  {
   "cell_type": "code",
   "execution_count": 10,
   "metadata": {},
   "outputs": [],
   "source": [
    "# reshape into X=t,t+1,t+2,t+3 and Y=t+4\n",
    "time_step = 30\n",
    "X_train, y_train = create_dataset(train, time_step)\n",
    "X_test, y_test = create_dataset(test, time_step)"
   ]
  },
  {
   "cell_type": "code",
   "execution_count": 11,
   "metadata": {},
   "outputs": [
    {
     "data": {
      "text/plain": [
       "((976, 30), (976,))"
      ]
     },
     "execution_count": 11,
     "metadata": {},
     "output_type": "execute_result"
    }
   ],
   "source": [
    "X_train.shape, y_train.shape"
   ]
  },
  {
   "cell_type": "code",
   "execution_count": 12,
   "metadata": {},
   "outputs": [
    {
     "data": {
      "text/plain": [
       "((221, 30), (221,))"
      ]
     },
     "execution_count": 12,
     "metadata": {},
     "output_type": "execute_result"
    }
   ],
   "source": [
    "X_test.shape, y_test.shape"
   ]
  },
  {
   "cell_type": "code",
   "execution_count": 13,
   "metadata": {},
   "outputs": [],
   "source": [
    "# reshape input to be [samples, time steps, features] which is required for LSTM\n",
    "X_train =X_train.reshape(X_train.shape[0],X_train.shape[1] , 1)\n",
    "X_test = X_test.reshape(X_test.shape[0],X_test.shape[1] , 1)"
   ]
  },
  {
   "cell_type": "code",
   "execution_count": 14,
   "metadata": {},
   "outputs": [],
   "source": [
    "### Create the Stacked LSTM model\n",
    "model=Sequential()\n",
    "model.add(LSTM(50,return_sequences=True,input_shape=(time_step,1)))\n",
    "model.add(LSTM(50,return_sequences=True))\n",
    "model.add(LSTM(50))\n",
    "model.add(Dense(1))\n",
    "model.compile(loss='mean_squared_error',optimizer='adam')"
   ]
  },
  {
   "cell_type": "code",
   "execution_count": 15,
   "metadata": {},
   "outputs": [
    {
     "name": "stdout",
     "output_type": "stream",
     "text": [
      "Model: \"sequential\"\n",
      "_________________________________________________________________\n",
      " Layer (type)                Output Shape              Param #   \n",
      "=================================================================\n",
      " lstm (LSTM)                 (None, 30, 50)            10400     \n",
      "                                                                 \n",
      " lstm_1 (LSTM)               (None, 30, 50)            20200     \n",
      "                                                                 \n",
      " lstm_2 (LSTM)               (None, 50)                20200     \n",
      "                                                                 \n",
      " dense (Dense)               (None, 1)                 51        \n",
      "                                                                 \n",
      "=================================================================\n",
      "Total params: 50,851\n",
      "Trainable params: 50,851\n",
      "Non-trainable params: 0\n",
      "_________________________________________________________________\n"
     ]
    }
   ],
   "source": [
    "model.summary()"
   ]
  },
  {
   "cell_type": "code",
   "execution_count": 16,
   "metadata": {},
   "outputs": [
    {
     "name": "stdout",
     "output_type": "stream",
     "text": [
      "Epoch 1/100\n",
      "16/16 [==============================] - 7s 78ms/step - loss: 0.0123 - val_loss: 0.1118\n",
      "Epoch 2/100\n",
      "16/16 [==============================] - 0s 18ms/step - loss: 0.0016 - val_loss: 0.0059\n",
      "Epoch 3/100\n",
      "16/16 [==============================] - 0s 19ms/step - loss: 7.1513e-04 - val_loss: 0.0040\n",
      "Epoch 4/100\n",
      "16/16 [==============================] - 0s 19ms/step - loss: 5.0958e-04 - val_loss: 0.0066\n",
      "Epoch 5/100\n",
      "16/16 [==============================] - 0s 17ms/step - loss: 4.9115e-04 - val_loss: 0.0062\n",
      "Epoch 6/100\n",
      "16/16 [==============================] - 0s 19ms/step - loss: 4.4274e-04 - val_loss: 0.0078\n",
      "Epoch 7/100\n",
      "16/16 [==============================] - 0s 17ms/step - loss: 4.3059e-04 - val_loss: 0.0056\n",
      "Epoch 8/100\n",
      "16/16 [==============================] - 0s 17ms/step - loss: 4.5019e-04 - val_loss: 0.0085\n",
      "Epoch 9/100\n",
      "16/16 [==============================] - 0s 19ms/step - loss: 3.9129e-04 - val_loss: 0.0063\n",
      "Epoch 10/100\n",
      "16/16 [==============================] - 0s 18ms/step - loss: 3.7909e-04 - val_loss: 0.0058\n",
      "Epoch 11/100\n",
      "16/16 [==============================] - 0s 18ms/step - loss: 3.7581e-04 - val_loss: 0.0074\n",
      "Epoch 12/100\n",
      "16/16 [==============================] - 0s 17ms/step - loss: 3.5417e-04 - val_loss: 0.0102\n",
      "Epoch 13/100\n",
      "16/16 [==============================] - 0s 16ms/step - loss: 3.2266e-04 - val_loss: 0.0068\n",
      "Epoch 14/100\n",
      "16/16 [==============================] - 0s 17ms/step - loss: 3.0830e-04 - val_loss: 0.0073\n",
      "Epoch 15/100\n",
      "16/16 [==============================] - 0s 22ms/step - loss: 2.9263e-04 - val_loss: 0.0047\n",
      "Epoch 16/100\n",
      "16/16 [==============================] - 0s 20ms/step - loss: 3.3926e-04 - val_loss: 0.0058\n",
      "Epoch 17/100\n",
      "16/16 [==============================] - 0s 19ms/step - loss: 3.1307e-04 - val_loss: 0.0146\n",
      "Epoch 18/100\n",
      "16/16 [==============================] - 0s 19ms/step - loss: 2.6010e-04 - val_loss: 0.0162\n",
      "Epoch 19/100\n",
      "16/16 [==============================] - 0s 19ms/step - loss: 2.8288e-04 - val_loss: 0.0094\n",
      "Epoch 20/100\n",
      "16/16 [==============================] - 0s 22ms/step - loss: 2.4937e-04 - val_loss: 0.0056\n",
      "Epoch 21/100\n",
      "16/16 [==============================] - 0s 18ms/step - loss: 2.7584e-04 - val_loss: 0.0096\n",
      "Epoch 22/100\n",
      "16/16 [==============================] - 0s 20ms/step - loss: 2.8078e-04 - val_loss: 0.0188\n",
      "Epoch 23/100\n",
      "16/16 [==============================] - 0s 20ms/step - loss: 3.1342e-04 - val_loss: 0.0079\n",
      "Epoch 24/100\n",
      "16/16 [==============================] - 0s 18ms/step - loss: 2.2599e-04 - val_loss: 0.0051\n",
      "Epoch 25/100\n",
      "16/16 [==============================] - 0s 19ms/step - loss: 2.4661e-04 - val_loss: 0.0098\n",
      "Epoch 26/100\n",
      "16/16 [==============================] - 0s 18ms/step - loss: 2.2036e-04 - val_loss: 0.0096\n",
      "Epoch 27/100\n",
      "16/16 [==============================] - 0s 17ms/step - loss: 2.2274e-04 - val_loss: 0.0070\n",
      "Epoch 28/100\n",
      "16/16 [==============================] - 0s 18ms/step - loss: 2.2844e-04 - val_loss: 0.0058\n",
      "Epoch 29/100\n",
      "16/16 [==============================] - 0s 17ms/step - loss: 2.7074e-04 - val_loss: 0.0081\n",
      "Epoch 30/100\n",
      "16/16 [==============================] - 0s 18ms/step - loss: 2.2868e-04 - val_loss: 0.0101\n",
      "Epoch 31/100\n",
      "16/16 [==============================] - 0s 19ms/step - loss: 2.1286e-04 - val_loss: 0.0074\n",
      "Epoch 32/100\n",
      "16/16 [==============================] - 0s 17ms/step - loss: 2.1664e-04 - val_loss: 0.0089\n",
      "Epoch 33/100\n",
      "16/16 [==============================] - 0s 17ms/step - loss: 2.1602e-04 - val_loss: 0.0083\n",
      "Epoch 34/100\n",
      "16/16 [==============================] - 0s 17ms/step - loss: 2.0081e-04 - val_loss: 0.0098\n",
      "Epoch 35/100\n",
      "16/16 [==============================] - 0s 19ms/step - loss: 1.9941e-04 - val_loss: 0.0096\n",
      "Epoch 36/100\n",
      "16/16 [==============================] - 0s 18ms/step - loss: 2.7465e-04 - val_loss: 0.0089\n",
      "Epoch 37/100\n",
      "16/16 [==============================] - 0s 17ms/step - loss: 1.9715e-04 - val_loss: 0.0073\n",
      "Epoch 38/100\n",
      "16/16 [==============================] - 0s 19ms/step - loss: 1.9626e-04 - val_loss: 0.0059\n",
      "Epoch 39/100\n",
      "16/16 [==============================] - 0s 19ms/step - loss: 2.3444e-04 - val_loss: 0.0060\n",
      "Epoch 40/100\n",
      "16/16 [==============================] - 0s 20ms/step - loss: 2.1621e-04 - val_loss: 0.0126\n",
      "Epoch 41/100\n",
      "16/16 [==============================] - 0s 17ms/step - loss: 2.0100e-04 - val_loss: 0.0152\n",
      "Epoch 42/100\n",
      "16/16 [==============================] - 0s 18ms/step - loss: 2.2854e-04 - val_loss: 0.0063\n",
      "Epoch 43/100\n",
      "16/16 [==============================] - 0s 18ms/step - loss: 2.1646e-04 - val_loss: 0.0052\n",
      "Epoch 44/100\n",
      "16/16 [==============================] - 0s 18ms/step - loss: 2.0566e-04 - val_loss: 0.0108\n",
      "Epoch 45/100\n",
      "16/16 [==============================] - 0s 18ms/step - loss: 1.8684e-04 - val_loss: 0.0093\n",
      "Epoch 46/100\n",
      "16/16 [==============================] - 0s 20ms/step - loss: 1.9054e-04 - val_loss: 0.0119\n",
      "Epoch 47/100\n",
      "16/16 [==============================] - 0s 17ms/step - loss: 1.6861e-04 - val_loss: 0.0072\n",
      "Epoch 48/100\n",
      "16/16 [==============================] - 0s 18ms/step - loss: 1.9436e-04 - val_loss: 0.0079\n",
      "Epoch 49/100\n",
      "16/16 [==============================] - 0s 21ms/step - loss: 1.6569e-04 - val_loss: 0.0113\n",
      "Epoch 50/100\n",
      "16/16 [==============================] - 0s 23ms/step - loss: 1.6550e-04 - val_loss: 0.0112\n",
      "Epoch 51/100\n",
      "16/16 [==============================] - 0s 19ms/step - loss: 1.5886e-04 - val_loss: 0.0103\n",
      "Epoch 52/100\n",
      "16/16 [==============================] - 0s 21ms/step - loss: 1.8951e-04 - val_loss: 0.0088\n",
      "Epoch 53/100\n",
      "16/16 [==============================] - 0s 20ms/step - loss: 1.8622e-04 - val_loss: 0.0056\n",
      "Epoch 54/100\n",
      "16/16 [==============================] - 0s 19ms/step - loss: 1.6066e-04 - val_loss: 0.0096\n",
      "Epoch 55/100\n",
      "16/16 [==============================] - 0s 20ms/step - loss: 1.5724e-04 - val_loss: 0.0099\n",
      "Epoch 56/100\n",
      "16/16 [==============================] - 0s 21ms/step - loss: 1.6464e-04 - val_loss: 0.0069\n",
      "Epoch 57/100\n",
      "16/16 [==============================] - 0s 19ms/step - loss: 1.6758e-04 - val_loss: 0.0079\n",
      "Epoch 58/100\n",
      "16/16 [==============================] - 0s 20ms/step - loss: 1.5990e-04 - val_loss: 0.0067\n",
      "Epoch 59/100\n",
      "16/16 [==============================] - 0s 22ms/step - loss: 1.6202e-04 - val_loss: 0.0053\n",
      "Epoch 60/100\n",
      "16/16 [==============================] - 0s 20ms/step - loss: 1.8415e-04 - val_loss: 0.0057\n",
      "Epoch 61/100\n",
      "16/16 [==============================] - 0s 19ms/step - loss: 1.6700e-04 - val_loss: 0.0059\n",
      "Epoch 62/100\n",
      "16/16 [==============================] - 0s 20ms/step - loss: 1.5784e-04 - val_loss: 0.0077\n",
      "Epoch 63/100\n",
      "16/16 [==============================] - 0s 23ms/step - loss: 1.5938e-04 - val_loss: 0.0116\n",
      "Epoch 64/100\n",
      "16/16 [==============================] - 0s 19ms/step - loss: 1.5435e-04 - val_loss: 0.0121\n",
      "Epoch 65/100\n",
      "16/16 [==============================] - 0s 20ms/step - loss: 1.4626e-04 - val_loss: 0.0084\n",
      "Epoch 66/100\n",
      "16/16 [==============================] - 0s 20ms/step - loss: 1.4234e-04 - val_loss: 0.0101\n",
      "Epoch 67/100\n",
      "16/16 [==============================] - 0s 20ms/step - loss: 1.4244e-04 - val_loss: 0.0130\n",
      "Epoch 68/100\n",
      "16/16 [==============================] - 0s 19ms/step - loss: 1.6182e-04 - val_loss: 0.0066\n",
      "Epoch 69/100\n",
      "16/16 [==============================] - 0s 20ms/step - loss: 1.4353e-04 - val_loss: 0.0064\n",
      "Epoch 70/100\n",
      "16/16 [==============================] - 0s 20ms/step - loss: 1.5842e-04 - val_loss: 0.0040\n",
      "Epoch 71/100\n",
      "16/16 [==============================] - 0s 23ms/step - loss: 1.8472e-04 - val_loss: 0.0034\n",
      "Epoch 72/100\n",
      "16/16 [==============================] - 0s 20ms/step - loss: 1.4731e-04 - val_loss: 0.0050\n",
      "Epoch 73/100\n",
      "16/16 [==============================] - 0s 20ms/step - loss: 1.3327e-04 - val_loss: 0.0076\n",
      "Epoch 74/100\n",
      "16/16 [==============================] - 0s 19ms/step - loss: 1.3777e-04 - val_loss: 0.0084\n",
      "Epoch 75/100\n",
      "16/16 [==============================] - 0s 20ms/step - loss: 1.4245e-04 - val_loss: 0.0089\n",
      "Epoch 76/100\n",
      "16/16 [==============================] - 0s 20ms/step - loss: 1.3888e-04 - val_loss: 0.0088\n",
      "Epoch 77/100\n",
      "16/16 [==============================] - 0s 19ms/step - loss: 1.4890e-04 - val_loss: 0.0055\n",
      "Epoch 78/100\n",
      "16/16 [==============================] - 0s 20ms/step - loss: 1.4343e-04 - val_loss: 0.0099\n",
      "Epoch 79/100\n"
     ]
    },
    {
     "name": "stdout",
     "output_type": "stream",
     "text": [
      "16/16 [==============================] - 0s 20ms/step - loss: 1.4068e-04 - val_loss: 0.0077\n",
      "Epoch 80/100\n",
      "16/16 [==============================] - 0s 19ms/step - loss: 1.4204e-04 - val_loss: 0.0069\n",
      "Epoch 81/100\n",
      "16/16 [==============================] - 0s 20ms/step - loss: 1.3334e-04 - val_loss: 0.0090\n",
      "Epoch 82/100\n",
      "16/16 [==============================] - 0s 21ms/step - loss: 1.4112e-04 - val_loss: 0.0110\n",
      "Epoch 83/100\n",
      "16/16 [==============================] - 0s 20ms/step - loss: 1.2853e-04 - val_loss: 0.0120\n",
      "Epoch 84/100\n",
      "16/16 [==============================] - 0s 19ms/step - loss: 1.3709e-04 - val_loss: 0.0095\n",
      "Epoch 85/100\n",
      "16/16 [==============================] - 0s 19ms/step - loss: 1.1779e-04 - val_loss: 0.0046\n",
      "Epoch 86/100\n",
      "16/16 [==============================] - 0s 20ms/step - loss: 1.3176e-04 - val_loss: 0.0063\n",
      "Epoch 87/100\n",
      "16/16 [==============================] - 0s 19ms/step - loss: 1.4378e-04 - val_loss: 0.0078\n",
      "Epoch 88/100\n",
      "16/16 [==============================] - 0s 19ms/step - loss: 1.1707e-04 - val_loss: 0.0066\n",
      "Epoch 89/100\n",
      "16/16 [==============================] - 0s 20ms/step - loss: 1.3120e-04 - val_loss: 0.0071\n",
      "Epoch 90/100\n",
      "16/16 [==============================] - 0s 19ms/step - loss: 1.1637e-04 - val_loss: 0.0121\n",
      "Epoch 91/100\n",
      "16/16 [==============================] - 0s 24ms/step - loss: 1.2879e-04 - val_loss: 0.0056\n",
      "Epoch 92/100\n",
      "16/16 [==============================] - 0s 19ms/step - loss: 1.4832e-04 - val_loss: 0.0042\n",
      "Epoch 93/100\n",
      "16/16 [==============================] - 0s 20ms/step - loss: 1.4976e-04 - val_loss: 0.0070\n",
      "Epoch 94/100\n",
      "16/16 [==============================] - 0s 23ms/step - loss: 1.1963e-04 - val_loss: 0.0078\n",
      "Epoch 95/100\n",
      "16/16 [==============================] - 0s 19ms/step - loss: 1.1161e-04 - val_loss: 0.0078\n",
      "Epoch 96/100\n",
      "16/16 [==============================] - 0s 20ms/step - loss: 1.1825e-04 - val_loss: 0.0055\n",
      "Epoch 97/100\n",
      "16/16 [==============================] - 0s 20ms/step - loss: 1.1438e-04 - val_loss: 0.0047\n",
      "Epoch 98/100\n",
      "16/16 [==============================] - 0s 24ms/step - loss: 1.1683e-04 - val_loss: 0.0081\n",
      "Epoch 99/100\n",
      "16/16 [==============================] - 0s 19ms/step - loss: 1.1556e-04 - val_loss: 0.0082\n",
      "Epoch 100/100\n",
      "16/16 [==============================] - 0s 26ms/step - loss: 1.1175e-04 - val_loss: 0.0061\n"
     ]
    },
    {
     "data": {
      "text/plain": [
       "<keras.callbacks.History at 0x18f4f315e50>"
      ]
     },
     "execution_count": 16,
     "metadata": {},
     "output_type": "execute_result"
    }
   ],
   "source": [
    "model.fit(X_train,y_train,validation_data=(X_test,y_test),epochs=100,batch_size=64,verbose=1)"
   ]
  },
  {
   "cell_type": "code",
   "execution_count": 17,
   "metadata": {},
   "outputs": [],
   "source": [
    "train_predict=model.predict(X_train)\n",
    "test_predict=model.predict(X_test)"
   ]
  },
  {
   "cell_type": "code",
   "execution_count": 18,
   "metadata": {},
   "outputs": [],
   "source": [
    "##Transformback to original form\n",
    "train_predict=scaler.inverse_transform(train_predict)\n",
    "test_predict=scaler.inverse_transform(test_predict)"
   ]
  },
  {
   "cell_type": "code",
   "execution_count": 19,
   "metadata": {},
   "outputs": [
    {
     "data": {
      "text/plain": [
       "44.93293500936823"
      ]
     },
     "execution_count": 19,
     "metadata": {},
     "output_type": "execute_result"
    }
   ],
   "source": [
    "math.sqrt(mean_squared_error(y_train,train_predict))"
   ]
  },
  {
   "cell_type": "code",
   "execution_count": 20,
   "metadata": {},
   "outputs": [
    {
     "data": {
      "text/plain": [
       "107.77731539735802"
      ]
     },
     "execution_count": 20,
     "metadata": {},
     "output_type": "execute_result"
    }
   ],
   "source": [
    "### Test Data RMSE\n",
    "math.sqrt(mean_squared_error(y_test,test_predict))"
   ]
  },
  {
   "cell_type": "code",
   "execution_count": 21,
   "metadata": {},
   "outputs": [
    {
     "data": {
      "image/png": "[encoded data removed]",
      "text/plain": [
       "<Figure size 432x288 with 1 Axes>"
      ]
     },
     "metadata": {
      "needs_background": "light"
     },
     "output_type": "display_data"
    }
   ],
   "source": [
    "### Plotting \n",
    "# shift train predictions for plotting\n",
    "look_back=time_step\n",
    "trainPredictPlot = np.empty_like(df)\n",
    "trainPredictPlot[:, :] = np.nan\n",
    "trainPredictPlot[look_back:len(train_predict)+look_back, :] = train_predict\n",
    "# shift test predictions for plotting\n",
    "testPredictPlot = np.empty_like(df)\n",
    "testPredictPlot[:, :] = np.nan\n",
    "testPredictPlot[len(train_predict)+(look_back*2)+1:len(df)-1, :] = test_predict\n",
    "# plot baseline and predictions\n",
    "plt.plot(scaler.inverse_transform(df))\n",
    "plt.plot(trainPredictPlot)\n",
    "plt.plot(testPredictPlot)\n",
    "plt.show()\n"
   ]
  },
  {
   "cell_type": "code",
   "execution_count": 45,
   "metadata": {},
   "outputs": [
    {
     "data": {
      "text/plain": [
       "(1, 30)"
      ]
     },
     "execution_count": 45,
     "metadata": {},
     "output_type": "execute_result"
    }
   ],
   "source": [
    "x_input=test[len(test)-look_back:].reshape(1,-1)\n",
    "x_input.shape"
   ]
  },
  {
   "cell_type": "code",
   "execution_count": 46,
   "metadata": {},
   "outputs": [],
   "source": [
    "temp_input=list(x_input)\n",
    "temp_input=temp_input[0].tolist()"
   ]
  },
  {
   "cell_type": "code",
   "execution_count": 47,
   "metadata": {},
   "outputs": [
    {
     "name": "stdout",
     "output_type": "stream",
     "text": [
      "[0.84121144]\n",
      "31\n",
      "1 day input [0.78174239 0.82057268 0.81146033 0.82771485 0.82008014 0.84437987\n",
      " 0.8573507  0.85070112 0.81597545 0.81154238 0.83945426 0.83247631\n",
      " 0.8123633  0.81646799 0.82155782 0.82303551 0.81080357 0.82927466\n",
      " 0.83625261 0.86005981 0.86260469 0.87647855 0.8966736  0.91834633\n",
      " 0.90389788 0.93008568 0.91038323 0.93066039 0.92786924 0.84121144]\n",
      "1 day output [[0.8172025]]\n",
      "2 day input [0.82057268 0.81146033 0.82771485 0.82008014 0.84437987 0.8573507\n",
      " 0.85070112 0.81597545 0.81154238 0.83945426 0.83247631 0.8123633\n",
      " 0.81646799 0.82155782 0.82303551 0.81080357 0.82927466 0.83625261\n",
      " 0.86005981 0.86260469 0.87647855 0.8966736  0.91834633 0.90389788\n",
      " 0.93008568 0.91038323 0.93066039 0.92786924 0.84121144 0.81720251]\n",
      "2 day output [[0.7796254]]\n",
      "3 day input [0.81146033 0.82771485 0.82008014 0.84437987 0.8573507  0.85070112\n",
      " 0.81597545 0.81154238 0.83945426 0.83247631 0.8123633  0.81646799\n",
      " 0.82155782 0.82303551 0.81080357 0.82927466 0.83625261 0.86005981\n",
      " 0.86260469 0.87647855 0.8966736  0.91834633 0.90389788 0.93008568\n",
      " 0.91038323 0.93066039 0.92786924 0.84121144 0.81720251 0.77962542]\n",
      "3 day output [[0.7361874]]\n",
      "4 day input [0.82771485 0.82008014 0.84437987 0.8573507  0.85070112 0.81597545\n",
      " 0.81154238 0.83945426 0.83247631 0.8123633  0.81646799 0.82155782\n",
      " 0.82303551 0.81080357 0.82927466 0.83625261 0.86005981 0.86260469\n",
      " 0.87647855 0.8966736  0.91834633 0.90389788 0.93008568 0.91038323\n",
      " 0.93066039 0.92786924 0.84121144 0.81720251 0.77962542 0.7361874 ]\n",
      "4 day output [[0.6899924]]\n",
      "5 day input [0.82008014 0.84437987 0.8573507  0.85070112 0.81597545 0.81154238\n",
      " 0.83945426 0.83247631 0.8123633  0.81646799 0.82155782 0.82303551\n",
      " 0.81080357 0.82927466 0.83625261 0.86005981 0.86260469 0.87647855\n",
      " 0.8966736  0.91834633 0.90389788 0.93008568 0.91038323 0.93066039\n",
      " 0.92786924 0.84121144 0.81720251 0.77962542 0.7361874  0.68999243]\n",
      "5 day output [[0.64229965]]\n",
      "6 day input [0.84437987 0.8573507  0.85070112 0.81597545 0.81154238 0.83945426\n",
      " 0.83247631 0.8123633  0.81646799 0.82155782 0.82303551 0.81080357\n",
      " 0.82927466 0.83625261 0.86005981 0.86260469 0.87647855 0.8966736\n",
      " 0.91834633 0.90389788 0.93008568 0.91038323 0.93066039 0.92786924\n",
      " 0.84121144 0.81720251 0.77962542 0.7361874  0.68999243 0.64229965]\n",
      "6 day output [[0.5937739]]\n",
      "7 day input [0.8573507  0.85070112 0.81597545 0.81154238 0.83945426 0.83247631\n",
      " 0.8123633  0.81646799 0.82155782 0.82303551 0.81080357 0.82927466\n",
      " 0.83625261 0.86005981 0.86260469 0.87647855 0.8966736  0.91834633\n",
      " 0.90389788 0.93008568 0.91038323 0.93066039 0.92786924 0.84121144\n",
      " 0.81720251 0.77962542 0.7361874  0.68999243 0.64229965 0.5937739 ]\n",
      "7 day output [[0.5450521]]\n",
      "8 day input [0.85070112 0.81597545 0.81154238 0.83945426 0.83247631 0.8123633\n",
      " 0.81646799 0.82155782 0.82303551 0.81080357 0.82927466 0.83625261\n",
      " 0.86005981 0.86260469 0.87647855 0.8966736  0.91834633 0.90389788\n",
      " 0.93008568 0.91038323 0.93066039 0.92786924 0.84121144 0.81720251\n",
      " 0.77962542 0.7361874  0.68999243 0.64229965 0.5937739  0.54505211]\n",
      "8 day output [[0.49676248]]\n",
      "9 day input [0.81597545 0.81154238 0.83945426 0.83247631 0.8123633  0.81646799\n",
      " 0.82155782 0.82303551 0.81080357 0.82927466 0.83625261 0.86005981\n",
      " 0.86260469 0.87647855 0.8966736  0.91834633 0.90389788 0.93008568\n",
      " 0.91038323 0.93066039 0.92786924 0.84121144 0.81720251 0.77962542\n",
      " 0.7361874  0.68999243 0.64229965 0.5937739  0.54505211 0.49676248]\n",
      "9 day output [[0.44956136]]\n",
      "[[0.8412114381790161], [0.8172025084495544], [0.779625415802002], [0.7361873984336853], [0.6899924278259277], [0.6422996520996094], [0.5937739014625549], [0.5450521111488342], [0.4967624843120575], [0.44956135749816895]]\n"
     ]
    }
   ],
   "source": [
    "# demonstrate prediction for next 10 days\n",
    "lst_output=[]\n",
    "n_steps=time_step\n",
    "i=0\n",
    "while(i<10):\n",
    "    \n",
    "    if(len(temp_input)>n_steps):\n",
    "        #print(temp_input)\n",
    "        x_input=np.array(temp_input[1:])\n",
    "        print(\"{} day input {}\".format(i,x_input))\n",
    "        x_input=x_input.reshape(1,-1)\n",
    "        x_input = x_input.reshape((1, n_steps, 1))\n",
    "        #print(x_input)\n",
    "        yhat = model.predict(x_input, verbose=0)\n",
    "        print(\"{} day output {}\".format(i,yhat))\n",
    "        temp_input.extend(yhat[0].tolist())\n",
    "        temp_input=temp_input[1:]\n",
    "        #print(temp_input)\n",
    "        lst_output.extend(yhat.tolist())\n",
    "        i=i+1\n",
    "    else:\n",
    "        x_input = x_input.reshape((1, n_steps,1))\n",
    "        yhat = model.predict(x_input, verbose=0)\n",
    "        print(yhat[0])\n",
    "        temp_input.extend(yhat[0].tolist())\n",
    "        print(len(temp_input))\n",
    "        lst_output.extend(yhat.tolist())\n",
    "        i=i+1\n",
    "    \n",
    "\n",
    "print(lst_output)"
   ]
  },
  {
   "cell_type": "code",
   "execution_count": 48,
   "metadata": {},
   "outputs": [],
   "source": [
    "day_new=np.arange(1,31)\n",
    "day_pred=np.arange(31,41)"
   ]
  },
  {
   "cell_type": "code",
   "execution_count": 54,
   "metadata": {},
   "outputs": [
    {
     "data": {
      "text/plain": [
       "[<matplotlib.lines.Line2D at 0x1902f3a3340>]"
      ]
     },
     "execution_count": 54,
     "metadata": {},
     "output_type": "execute_result"
    },
    {
     "data": {
      "image/png": "[encoded data removed]",
      "text/plain": [
       "<Figure size 432x288 with 1 Axes>"
      ]
     },
     "metadata": {
      "needs_background": "light"
     },
     "output_type": "display_data"
    }
   ],
   "source": [
    "plt.plot(day_new,scaler.inverse_transform(df[len(df)-look_back:]))\n",
    "plt.plot(day_pred,scaler.inverse_transform(lst_output))"
   ]
  }
 ],
 "metadata": {
  "kernelspec": {
   "display_name": "Python 3",
   "language": "python",
   "name": "python3"
  },
  "language_info": {
   "codemirror_mode": {
    "name": "ipython",
    "version": 3
   },
   "file_extension": ".py",
   "mimetype": "text/x-python",
   "name": "python",
   "nbconvert_exporter": "python",
   "pygments_lexer": "ipython3",
   "version": "3.8.8"
  }
 },
 "nbformat": 4,
 "nbformat_minor": 4
}
