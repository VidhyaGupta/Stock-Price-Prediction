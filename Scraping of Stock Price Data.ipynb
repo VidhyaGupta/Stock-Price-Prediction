{
 "cells": [
  {
   "cell_type": "code",
   "execution_count": 1,
   "metadata": {},
   "outputs": [],
   "source": [
    "import requests\n",
    "import re\n",
    "import json\n",
    "from bs4 import BeautifulSoup\n",
    "from io import StringIO\n",
    "import csv\n",
    "import pandas as pd\n",
    "import datetime"
   ]
  },
  {
   "cell_type": "code",
   "execution_count": 2,
   "metadata": {},
   "outputs": [],
   "source": [
    "URL = 'https://finance.yahoo.com/quote/{}/history?p={}'\n",
    "stock = 'AAPL'\n",
    "response = requests.get(URL.format(stock, stock))\n",
    "soup = BeautifulSoup(response.text, 'html.parser')"
   ]
  },
  {
   "cell_type": "code",
   "execution_count": 3,
   "metadata": {
    "scrolled": true
   },
   "outputs": [],
   "source": [
    "pattern = re.compile(r'\\s--\\sData\\s--\\s')\n",
    "script_data = soup.find('script', text=pattern).contents[0]    #1st item of the list"
   ]
  },
  {
   "cell_type": "code",
   "execution_count": 4,
   "metadata": {
    "scrolled": true
   },
   "outputs": [
    {
     "data": {
      "text/plain": [
       "'\\n(function (root) {\\n/* -- Data -- */\\nroot.App || (root.App = {});\\nroot.App.now = 1618829391501;\\nroot.App.main = {\"context\":{\"dispatcher\":{\"stores\":{\"PageStore\":{\"currentPageName\":\"quote\",\"currentEvent\":{\"eventName\":\"NEW_PAGE_SUCCESS\"},\"currentRenderTargetId\":\"default\",\"pagesConfigRaw\":{\"base\":{\"quote\":{\"layout\":{\"bundleName\":\"yahoodotcom-layout.TwoColumnLayout\",\"name\":\"TwoColumnLayout\",\"config\":{\"enableHeaderCollapse\":true,\"additionalBodyWrapperClasses\":\"Bgc($layoutBgColor)!\",\"contentWrapperClas'"
      ]
     },
     "execution_count": 4,
     "metadata": {},
     "output_type": "execute_result"
    }
   ],
   "source": [
    "#the beginning\n",
    "script_data[:500]"
   ]
  },
  {
   "cell_type": "code",
   "execution_count": 5,
   "metadata": {},
   "outputs": [
    {
     "data": {
      "text/plain": [
       "'put\":{\"strings\":1},\"tdv2-applet-sponsored-moments\":{\"strings\":1},\"tdv2-applet-stream\":{\"strings\":1},\"tdv2-applet-stream-hero\":{\"strings\":1},\"tdv2-applet-swisschamp\":{\"strings\":1},\"tdv2-applet-uh\":{\"strings\":1},\"tdv2-applet-userintent\":{\"strings\":1},\"tdv2-applet-video-lightbox\":{\"strings\":1},\"tdv2-applet-video-modal\":{\"strings\":1},\"tdv2-wafer-adfeedback\":{\"strings\":1},\"tdv2-wafer-header\":{\"strings\":1},\"yahoodotcom-layout\":{\"strings\":1}}},\"options\":{\"defaultBundle\":\"td-app-finance\"}}}};\\n}(this));\\n'"
      ]
     },
     "execution_count": 5,
     "metadata": {},
     "output_type": "execute_result"
    }
   ],
   "source": [
    "#the end\n",
    "script_data[-500:]"
   ]
  },
  {
   "cell_type": "code",
   "execution_count": 6,
   "metadata": {},
   "outputs": [],
   "source": [
    "start = script_data.find(\"context\")-2"
   ]
  },
  {
   "cell_type": "code",
   "execution_count": 7,
   "metadata": {
    "scrolled": true
   },
   "outputs": [],
   "source": [
    "json_data = json.loads(script_data[start:-12])"
   ]
  },
  {
   "cell_type": "code",
   "execution_count": 8,
   "metadata": {
    "scrolled": true
   },
   "outputs": [
    {
     "data": {
      "text/plain": [
       "dict_keys(['dispatcher', 'options', 'plugins'])"
      ]
     },
     "execution_count": 8,
     "metadata": {},
     "output_type": "execute_result"
    }
   ],
   "source": [
    "json_data['context'].keys()"
   ]
  },
  {
   "cell_type": "code",
   "execution_count": 9,
   "metadata": {},
   "outputs": [
    {
     "data": {
      "text/plain": [
       "dict_keys(['stores'])"
      ]
     },
     "execution_count": 9,
     "metadata": {},
     "output_type": "execute_result"
    }
   ],
   "source": [
    "json_data['context']['dispatcher'].keys()"
   ]
  },
  {
   "cell_type": "code",
   "execution_count": 10,
   "metadata": {},
   "outputs": [],
   "source": [
    "# json_data['context']['dispatcher']['stores']['RecommendationStore']['recommendedSymbols']['AAPL'][0].get('sourceInterval')"
   ]
  },
  {
   "cell_type": "code",
   "execution_count": 11,
   "metadata": {
    "scrolled": true
   },
   "outputs": [
    {
     "data": {
      "text/plain": [
       "{'date': 1618579800,\n",
       " 'open': 134.3000030517578,\n",
       " 'high': 134.6699981689453,\n",
       " 'low': 133.27999877929688,\n",
       " 'close': 134.16000366210938,\n",
       " 'volume': 84818500,\n",
       " 'adjclose': 134.16000366210938}"
      ]
     },
     "execution_count": 11,
     "metadata": {},
     "output_type": "execute_result"
    }
   ],
   "source": [
    "historical_data = json_data['context']['dispatcher']['stores']['HistoricalPriceStore']['prices']\n",
    "historical_data[0]"
   ]
  },
  {
   "cell_type": "code",
   "execution_count": 12,
   "metadata": {
    "scrolled": false
   },
   "outputs": [
    {
     "data": {
      "text/plain": [
       "[[1618579800,\n",
       "  134.3000030517578,\n",
       "  134.6699981689453,\n",
       "  133.27999877929688,\n",
       "  134.16000366210938,\n",
       "  84818500,\n",
       "  134.16000366210938],\n",
       " [1618493400,\n",
       "  133.82000732421875,\n",
       "  135,\n",
       "  133.63999938964844,\n",
       "  134.5,\n",
       "  89347100,\n",
       "  134.5]]"
      ]
     },
     "execution_count": 12,
     "metadata": {},
     "output_type": "execute_result"
    }
   ],
   "source": [
    "data = []\n",
    "keys = historical_data[0].keys()\n",
    "for i in range(len(historical_data)):\n",
    "    if historical_data[i].keys() == keys:\n",
    "        data.append(list(historical_data[i].values()))\n",
    "data[:2]        "
   ]
  },
  {
   "cell_type": "code",
   "execution_count": 13,
   "metadata": {
    "scrolled": false
   },
   "outputs": [
    {
     "data": {
      "text/html": [
       "<div>\n",
       "<style scoped>\n",
       "    .dataframe tbody tr th:only-of-type {\n",
       "        vertical-align: middle;\n",
       "    }\n",
       "\n",
       "    .dataframe tbody tr th {\n",
       "        vertical-align: top;\n",
       "    }\n",
       "\n",
       "    .dataframe thead th {\n",
       "        text-align: right;\n",
       "    }\n",
       "</style>\n",
       "<table border=\"1\" class=\"dataframe\">\n",
       "  <thead>\n",
       "    <tr style=\"text-align: right;\">\n",
       "      <th></th>\n",
       "      <th>date</th>\n",
       "      <th>open</th>\n",
       "      <th>high</th>\n",
       "      <th>low</th>\n",
       "      <th>close</th>\n",
       "      <th>volume</th>\n",
       "      <th>adjclose</th>\n",
       "    </tr>\n",
       "  </thead>\n",
       "  <tbody>\n",
       "    <tr>\n",
       "      <th>0</th>\n",
       "      <td>1618579800</td>\n",
       "      <td>134.300003</td>\n",
       "      <td>134.669998</td>\n",
       "      <td>133.279999</td>\n",
       "      <td>134.160004</td>\n",
       "      <td>84818500</td>\n",
       "      <td>134.160004</td>\n",
       "    </tr>\n",
       "    <tr>\n",
       "      <th>1</th>\n",
       "      <td>1618493400</td>\n",
       "      <td>133.820007</td>\n",
       "      <td>135.000000</td>\n",
       "      <td>133.639999</td>\n",
       "      <td>134.500000</td>\n",
       "      <td>89347100</td>\n",
       "      <td>134.500000</td>\n",
       "    </tr>\n",
       "    <tr>\n",
       "      <th>2</th>\n",
       "      <td>1618407000</td>\n",
       "      <td>134.940002</td>\n",
       "      <td>135.000000</td>\n",
       "      <td>131.660004</td>\n",
       "      <td>132.029999</td>\n",
       "      <td>87222800</td>\n",
       "      <td>132.029999</td>\n",
       "    </tr>\n",
       "    <tr>\n",
       "      <th>3</th>\n",
       "      <td>1618320600</td>\n",
       "      <td>132.440002</td>\n",
       "      <td>134.660004</td>\n",
       "      <td>131.929993</td>\n",
       "      <td>134.429993</td>\n",
       "      <td>91266500</td>\n",
       "      <td>134.429993</td>\n",
       "    </tr>\n",
       "    <tr>\n",
       "      <th>4</th>\n",
       "      <td>1618234200</td>\n",
       "      <td>132.520004</td>\n",
       "      <td>132.850006</td>\n",
       "      <td>130.630005</td>\n",
       "      <td>131.240005</td>\n",
       "      <td>91420000</td>\n",
       "      <td>131.240005</td>\n",
       "    </tr>\n",
       "  </tbody>\n",
       "</table>\n",
       "</div>"
      ],
      "text/plain": [
       "         date        open        high         low       close    volume  \\\n",
       "0  1618579800  134.300003  134.669998  133.279999  134.160004  84818500   \n",
       "1  1618493400  133.820007  135.000000  133.639999  134.500000  89347100   \n",
       "2  1618407000  134.940002  135.000000  131.660004  132.029999  87222800   \n",
       "3  1618320600  132.440002  134.660004  131.929993  134.429993  91266500   \n",
       "4  1618234200  132.520004  132.850006  130.630005  131.240005  91420000   \n",
       "\n",
       "     adjclose  \n",
       "0  134.160004  \n",
       "1  134.500000  \n",
       "2  132.029999  \n",
       "3  134.429993  \n",
       "4  131.240005  "
      ]
     },
     "execution_count": 13,
     "metadata": {},
     "output_type": "execute_result"
    }
   ],
   "source": [
    "data = pd.DataFrame(data, columns=list(keys))\n",
    "data.head()"
   ]
  },
  {
   "cell_type": "code",
   "execution_count": 14,
   "metadata": {},
   "outputs": [
    {
     "data": {
      "text/html": [
       "<div>\n",
       "<style scoped>\n",
       "    .dataframe tbody tr th:only-of-type {\n",
       "        vertical-align: middle;\n",
       "    }\n",
       "\n",
       "    .dataframe tbody tr th {\n",
       "        vertical-align: top;\n",
       "    }\n",
       "\n",
       "    .dataframe thead th {\n",
       "        text-align: right;\n",
       "    }\n",
       "</style>\n",
       "<table border=\"1\" class=\"dataframe\">\n",
       "  <thead>\n",
       "    <tr style=\"text-align: right;\">\n",
       "      <th></th>\n",
       "      <th>date</th>\n",
       "      <th>open</th>\n",
       "      <th>high</th>\n",
       "      <th>low</th>\n",
       "      <th>close</th>\n",
       "      <th>volume</th>\n",
       "      <th>adjclose</th>\n",
       "    </tr>\n",
       "  </thead>\n",
       "  <tbody>\n",
       "    <tr>\n",
       "      <th>0</th>\n",
       "      <td>2021-04-16</td>\n",
       "      <td>134.300003</td>\n",
       "      <td>134.669998</td>\n",
       "      <td>133.279999</td>\n",
       "      <td>134.160004</td>\n",
       "      <td>84818500</td>\n",
       "      <td>134.160004</td>\n",
       "    </tr>\n",
       "    <tr>\n",
       "      <th>1</th>\n",
       "      <td>2021-04-15</td>\n",
       "      <td>133.820007</td>\n",
       "      <td>135.000000</td>\n",
       "      <td>133.639999</td>\n",
       "      <td>134.500000</td>\n",
       "      <td>89347100</td>\n",
       "      <td>134.500000</td>\n",
       "    </tr>\n",
       "    <tr>\n",
       "      <th>2</th>\n",
       "      <td>2021-04-14</td>\n",
       "      <td>134.940002</td>\n",
       "      <td>135.000000</td>\n",
       "      <td>131.660004</td>\n",
       "      <td>132.029999</td>\n",
       "      <td>87222800</td>\n",
       "      <td>132.029999</td>\n",
       "    </tr>\n",
       "    <tr>\n",
       "      <th>3</th>\n",
       "      <td>2021-04-13</td>\n",
       "      <td>132.440002</td>\n",
       "      <td>134.660004</td>\n",
       "      <td>131.929993</td>\n",
       "      <td>134.429993</td>\n",
       "      <td>91266500</td>\n",
       "      <td>134.429993</td>\n",
       "    </tr>\n",
       "    <tr>\n",
       "      <th>4</th>\n",
       "      <td>2021-04-12</td>\n",
       "      <td>132.520004</td>\n",
       "      <td>132.850006</td>\n",
       "      <td>130.630005</td>\n",
       "      <td>131.240005</td>\n",
       "      <td>91420000</td>\n",
       "      <td>131.240005</td>\n",
       "    </tr>\n",
       "  </tbody>\n",
       "</table>\n",
       "</div>"
      ],
      "text/plain": [
       "         date        open        high         low       close    volume  \\\n",
       "0  2021-04-16  134.300003  134.669998  133.279999  134.160004  84818500   \n",
       "1  2021-04-15  133.820007  135.000000  133.639999  134.500000  89347100   \n",
       "2  2021-04-14  134.940002  135.000000  131.660004  132.029999  87222800   \n",
       "3  2021-04-13  132.440002  134.660004  131.929993  134.429993  91266500   \n",
       "4  2021-04-12  132.520004  132.850006  130.630005  131.240005  91420000   \n",
       "\n",
       "     adjclose  \n",
       "0  134.160004  \n",
       "1  134.500000  \n",
       "2  132.029999  \n",
       "3  134.429993  \n",
       "4  131.240005  "
      ]
     },
     "execution_count": 14,
     "metadata": {},
     "output_type": "execute_result"
    }
   ],
   "source": [
    "date_convert = []\n",
    "for i in range(len(data)):\n",
    "    timestamp = datetime.datetime.fromtimestamp(data['date'][i])\n",
    "    date_convert.append(timestamp.strftime('%Y-%m-%d'))\n",
    "    \n",
    "data['date'] = date_convert\n",
    "data.head()"
   ]
  },
  {
   "cell_type": "code",
   "execution_count": 15,
   "metadata": {},
   "outputs": [],
   "source": [
    "stock_url = 'https://query1.finance.yahoo.com/v7/finance/download/{}?'\n",
    "params = {\n",
    "    'range' : '5y',\n",
    "    'interval' : '1d',\n",
    "    'events' : 'history' ,\n",
    "    'includeAdjustedClose' : 'true'\n",
    "}\n",
    "response = requests.get(stock_url.format(stock), params=params)"
   ]
  },
  {
   "cell_type": "code",
   "execution_count": 16,
   "metadata": {},
   "outputs": [
    {
     "data": {
      "text/html": [
       "<div>\n",
       "<style scoped>\n",
       "    .dataframe tbody tr th:only-of-type {\n",
       "        vertical-align: middle;\n",
       "    }\n",
       "\n",
       "    .dataframe tbody tr th {\n",
       "        vertical-align: top;\n",
       "    }\n",
       "\n",
       "    .dataframe thead tr th {\n",
       "        text-align: left;\n",
       "    }\n",
       "</style>\n",
       "<table border=\"1\" class=\"dataframe\">\n",
       "  <thead>\n",
       "    <tr>\n",
       "      <th></th>\n",
       "      <th>Date</th>\n",
       "      <th>Open</th>\n",
       "      <th>High</th>\n",
       "      <th>Low</th>\n",
       "      <th>Close</th>\n",
       "      <th>Adj Close</th>\n",
       "      <th>Volume</th>\n",
       "    </tr>\n",
       "  </thead>\n",
       "  <tbody>\n",
       "    <tr>\n",
       "      <th>0</th>\n",
       "      <td>2016-04-18</td>\n",
       "      <td>27.222500</td>\n",
       "      <td>27.237499</td>\n",
       "      <td>26.735001</td>\n",
       "      <td>26.870001</td>\n",
       "      <td>24.992023</td>\n",
       "      <td>243286000</td>\n",
       "    </tr>\n",
       "    <tr>\n",
       "      <th>1</th>\n",
       "      <td>2016-04-19</td>\n",
       "      <td>26.969999</td>\n",
       "      <td>27.000000</td>\n",
       "      <td>26.557501</td>\n",
       "      <td>26.727501</td>\n",
       "      <td>24.859484</td>\n",
       "      <td>129539600</td>\n",
       "    </tr>\n",
       "    <tr>\n",
       "      <th>2</th>\n",
       "      <td>2016-04-20</td>\n",
       "      <td>26.660000</td>\n",
       "      <td>27.022499</td>\n",
       "      <td>26.514999</td>\n",
       "      <td>26.782499</td>\n",
       "      <td>24.910643</td>\n",
       "      <td>122444000</td>\n",
       "    </tr>\n",
       "    <tr>\n",
       "      <th>3</th>\n",
       "      <td>2016-04-21</td>\n",
       "      <td>26.732500</td>\n",
       "      <td>26.732500</td>\n",
       "      <td>26.379999</td>\n",
       "      <td>26.492500</td>\n",
       "      <td>24.640911</td>\n",
       "      <td>126210000</td>\n",
       "    </tr>\n",
       "    <tr>\n",
       "      <th>4</th>\n",
       "      <td>2016-04-22</td>\n",
       "      <td>26.252501</td>\n",
       "      <td>26.620001</td>\n",
       "      <td>26.155001</td>\n",
       "      <td>26.420000</td>\n",
       "      <td>24.573479</td>\n",
       "      <td>134732400</td>\n",
       "    </tr>\n",
       "  </tbody>\n",
       "</table>\n",
       "</div>"
      ],
      "text/plain": [
       "         Date       Open       High        Low      Close  Adj Close  \\\n",
       "0  2016-04-18  27.222500  27.237499  26.735001  26.870001  24.992023   \n",
       "1  2016-04-19  26.969999  27.000000  26.557501  26.727501  24.859484   \n",
       "2  2016-04-20  26.660000  27.022499  26.514999  26.782499  24.910643   \n",
       "3  2016-04-21  26.732500  26.732500  26.379999  26.492500  24.640911   \n",
       "4  2016-04-22  26.252501  26.620001  26.155001  26.420000  24.573479   \n",
       "\n",
       "      Volume  \n",
       "0  243286000  \n",
       "1  129539600  \n",
       "2  122444000  \n",
       "3  126210000  \n",
       "4  134732400  "
      ]
     },
     "execution_count": 16,
     "metadata": {},
     "output_type": "execute_result"
    }
   ],
   "source": [
    "file = StringIO(response.text)\n",
    "reader = csv.reader(file)\n",
    "data = list(reader)\n",
    "column = data[:1]\n",
    "df = []\n",
    "for row in data[1:]:\n",
    "    df.append(row)\n",
    "data = pd.DataFrame(df, columns=column)\n",
    "data.head()"
   ]
  },
  {
   "cell_type": "code",
   "execution_count": 17,
   "metadata": {},
   "outputs": [],
   "source": [
    "data.to_csv(\"Stock_price.csv\",index=False)"
   ]
  }
 ],
 "metadata": {
  "kernelspec": {
   "display_name": "Python 3",
   "language": "python",
   "name": "python3"
  },
  "language_info": {
   "codemirror_mode": {
    "name": "ipython",
    "version": 3
   },
   "file_extension": ".py",
   "mimetype": "text/x-python",
   "name": "python",
   "nbconvert_exporter": "python",
   "pygments_lexer": "ipython3",
   "version": "3.8.8"
  }
 },
 "nbformat": 4,
 "nbformat_minor": 4
}
